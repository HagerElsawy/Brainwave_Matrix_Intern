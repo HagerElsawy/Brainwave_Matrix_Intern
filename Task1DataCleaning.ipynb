{
 "cells": [
  {
   "cell_type": "code",
   "execution_count": null,
   "metadata": {},
   "outputs": [],
   "source": [
    "import pandas as pd\n"
   ]
  },
  {
   "cell_type": "markdown",
   "metadata": {},
   "source": [
    "Fetch Data"
   ]
  },
  {
   "cell_type": "code",
   "execution_count": 82,
   "metadata": {},
   "outputs": [],
   "source": [
    "StoreSales = pd.read_csv('D:\\Data_analysis\\Brainwave_Task1/rawdata.csv')\n"
   ]
  },
  {
   "cell_type": "markdown",
   "metadata": {},
   "source": [
    "Data Info"
   ]
  },
  {
   "cell_type": "code",
   "execution_count": 79,
   "metadata": {},
   "outputs": [
    {
     "name": "stdout",
     "output_type": "stream",
     "text": [
      "<class 'pandas.core.frame.DataFrame'>\n",
      "RangeIndex: 9994 entries, 0 to 9993\n",
      "Data columns (total 11 columns):\n",
      " #   Column         Non-Null Count  Dtype         \n",
      "---  ------         --------------  -----         \n",
      " 0   Order Date     9994 non-null   datetime64[ns]\n",
      " 1   Customer Name  9994 non-null   object        \n",
      " 2   State          9994 non-null   object        \n",
      " 3   Category       9994 non-null   object        \n",
      " 4   Sub-Category   9994 non-null   object        \n",
      " 5   Product Name   9994 non-null   object        \n",
      " 6   Sales          9994 non-null   float64       \n",
      " 7   Quantity       9994 non-null   int64         \n",
      " 8   Profit         9994 non-null   float64       \n",
      " 9   Year           9994 non-null   int32         \n",
      " 10  Month          9994 non-null   int32         \n",
      "dtypes: datetime64[ns](1), float64(2), int32(2), int64(1), object(5)\n",
      "memory usage: 780.9+ KB\n"
     ]
    },
    {
     "data": {
      "text/html": [
       "<div>\n",
       "<style scoped>\n",
       "    .dataframe tbody tr th:only-of-type {\n",
       "        vertical-align: middle;\n",
       "    }\n",
       "\n",
       "    .dataframe tbody tr th {\n",
       "        vertical-align: top;\n",
       "    }\n",
       "\n",
       "    .dataframe thead th {\n",
       "        text-align: right;\n",
       "    }\n",
       "</style>\n",
       "<table border=\"1\" class=\"dataframe\">\n",
       "  <thead>\n",
       "    <tr style=\"text-align: right;\">\n",
       "      <th></th>\n",
       "      <th>Order Date</th>\n",
       "      <th>Sales</th>\n",
       "      <th>Quantity</th>\n",
       "      <th>Profit</th>\n",
       "      <th>Year</th>\n",
       "      <th>Month</th>\n",
       "    </tr>\n",
       "  </thead>\n",
       "  <tbody>\n",
       "    <tr>\n",
       "      <th>count</th>\n",
       "      <td>9994</td>\n",
       "      <td>9994.000000</td>\n",
       "      <td>9994.000000</td>\n",
       "      <td>9994.000000</td>\n",
       "      <td>9994.000000</td>\n",
       "      <td>9994.000000</td>\n",
       "    </tr>\n",
       "    <tr>\n",
       "      <th>mean</th>\n",
       "      <td>2016-04-30 00:07:12.259355648</td>\n",
       "      <td>229.858022</td>\n",
       "      <td>3.789574</td>\n",
       "      <td>28.656973</td>\n",
       "      <td>2015.722233</td>\n",
       "      <td>7.809686</td>\n",
       "    </tr>\n",
       "    <tr>\n",
       "      <th>min</th>\n",
       "      <td>2014-01-03 00:00:00</td>\n",
       "      <td>0.440000</td>\n",
       "      <td>1.000000</td>\n",
       "      <td>-6599.980000</td>\n",
       "      <td>2014.000000</td>\n",
       "      <td>1.000000</td>\n",
       "    </tr>\n",
       "    <tr>\n",
       "      <th>25%</th>\n",
       "      <td>2015-05-23 00:00:00</td>\n",
       "      <td>17.280000</td>\n",
       "      <td>2.000000</td>\n",
       "      <td>1.730000</td>\n",
       "      <td>2015.000000</td>\n",
       "      <td>5.000000</td>\n",
       "    </tr>\n",
       "    <tr>\n",
       "      <th>50%</th>\n",
       "      <td>2016-06-26 00:00:00</td>\n",
       "      <td>54.490000</td>\n",
       "      <td>3.000000</td>\n",
       "      <td>8.665000</td>\n",
       "      <td>2016.000000</td>\n",
       "      <td>9.000000</td>\n",
       "    </tr>\n",
       "    <tr>\n",
       "      <th>75%</th>\n",
       "      <td>2017-05-14 00:00:00</td>\n",
       "      <td>209.940000</td>\n",
       "      <td>5.000000</td>\n",
       "      <td>29.360000</td>\n",
       "      <td>2017.000000</td>\n",
       "      <td>11.000000</td>\n",
       "    </tr>\n",
       "    <tr>\n",
       "      <th>max</th>\n",
       "      <td>2017-12-30 00:00:00</td>\n",
       "      <td>22638.480000</td>\n",
       "      <td>14.000000</td>\n",
       "      <td>8399.980000</td>\n",
       "      <td>2017.000000</td>\n",
       "      <td>12.000000</td>\n",
       "    </tr>\n",
       "    <tr>\n",
       "      <th>std</th>\n",
       "      <td>NaN</td>\n",
       "      <td>623.245131</td>\n",
       "      <td>2.225110</td>\n",
       "      <td>234.260203</td>\n",
       "      <td>1.123555</td>\n",
       "      <td>3.284654</td>\n",
       "    </tr>\n",
       "  </tbody>\n",
       "</table>\n",
       "</div>"
      ],
      "text/plain": [
       "                          Order Date         Sales     Quantity       Profit  \\\n",
       "count                           9994   9994.000000  9994.000000  9994.000000   \n",
       "mean   2016-04-30 00:07:12.259355648    229.858022     3.789574    28.656973   \n",
       "min              2014-01-03 00:00:00      0.440000     1.000000 -6599.980000   \n",
       "25%              2015-05-23 00:00:00     17.280000     2.000000     1.730000   \n",
       "50%              2016-06-26 00:00:00     54.490000     3.000000     8.665000   \n",
       "75%              2017-05-14 00:00:00    209.940000     5.000000    29.360000   \n",
       "max              2017-12-30 00:00:00  22638.480000    14.000000  8399.980000   \n",
       "std                              NaN    623.245131     2.225110   234.260203   \n",
       "\n",
       "              Year        Month  \n",
       "count  9994.000000  9994.000000  \n",
       "mean   2015.722233     7.809686  \n",
       "min    2014.000000     1.000000  \n",
       "25%    2015.000000     5.000000  \n",
       "50%    2016.000000     9.000000  \n",
       "75%    2017.000000    11.000000  \n",
       "max    2017.000000    12.000000  \n",
       "std       1.123555     3.284654  "
      ]
     },
     "execution_count": 79,
     "metadata": {},
     "output_type": "execute_result"
    }
   ],
   "source": [
    "StoreSales.info()\n",
    "StoreSales.describe()"
   ]
  },
  {
   "cell_type": "markdown",
   "metadata": {},
   "source": [
    "Clean Data"
   ]
  },
  {
   "cell_type": "code",
   "execution_count": 83,
   "metadata": {},
   "outputs": [
    {
     "data": {
      "text/plain": [
       "0         3/1/2014\n",
       "1         4/1/2014\n",
       "2         4/1/2014\n",
       "3         4/1/2014\n",
       "4         5/1/2014\n",
       "           ...    \n",
       "9989    30/12/2017\n",
       "9990    30/12/2017\n",
       "9991    30/12/2017\n",
       "9992    30/12/2017\n",
       "9993    30/12/2017\n",
       "Name: Order Date, Length: 9994, dtype: object"
      ]
     },
     "execution_count": 83,
     "metadata": {},
     "output_type": "execute_result"
    }
   ],
   "source": [
    "cols = []\n",
    "for col in StoreSales['Order Date']:\n",
    " x =  col.replace(\"-\",\"/\")\n",
    " cols.append(x)\n",
    "#cols\n",
    "StoreSales['Order Date']=cols\n",
    "StoreSales['Order Date']\n",
    "\n",
    "\n"
   ]
  },
  {
   "cell_type": "code",
   "execution_count": 84,
   "metadata": {},
   "outputs": [
    {
     "name": "stdout",
     "output_type": "stream",
     "text": [
      "     Order Date      Customer Name         State         Category  \\\n",
      "0    2014-01-03      Darren Powers         Texas  Office Supplies   \n",
      "1    2014-01-04      Phillina Ober      Illinois  Office Supplies   \n",
      "2    2014-01-04      Phillina Ober      Illinois  Office Supplies   \n",
      "3    2014-01-04      Phillina Ober      Illinois  Office Supplies   \n",
      "4    2014-01-05         Mick Brown  Pennsylvania  Office Supplies   \n",
      "...         ...                ...           ...              ...   \n",
      "9989 2017-12-30  Patrick O'Donnell      New York       Technology   \n",
      "9990 2017-12-30  Patrick O'Donnell      New York  Office Supplies   \n",
      "9991 2017-12-30         Erica Bern    California  Office Supplies   \n",
      "9992 2017-12-30         Erica Bern    California  Office Supplies   \n",
      "9993 2017-12-30      Jill Matthias      Colorado  Office Supplies   \n",
      "\n",
      "     Sub-Category                                       Product Name   Sales  \\\n",
      "0           Paper  Message Book, Wirebound, Four 5 1/2\" X 4\" Form...   16.45   \n",
      "1          Labels                                          Avery 508   11.78   \n",
      "2         Storage                      SAFCO Boltless Steel Shelving  272.74   \n",
      "3         Binders         GBC Standard Plastic Binding Systems Combs    3.54   \n",
      "4             Art  Avery Hi-Liter EverBold Pen Style Fluorescent ...   19.54   \n",
      "...           ...                                                ...     ...   \n",
      "9989       Phones                          Gear Head AU3700S Headset   90.93   \n",
      "9990      Binders               Wilson Jones Legal Size Ring Binders   52.78   \n",
      "9991      Binders    Cardinal Slant-D Ring Binder, Heavy Gauge Vinyl   13.90   \n",
      "9992      Binders                                 GBC Binding covers   20.72   \n",
      "9993    Fasteners                                Bagged Rubber Bands    3.02   \n",
      "\n",
      "      Quantity  Profit  Year  Month  \n",
      "0            2    5.55  2014      1  \n",
      "1            3    4.27  2014      1  \n",
      "2            3  -64.77  2014      1  \n",
      "3            2   -5.49  2014      1  \n",
      "4            3    4.88  2014      1  \n",
      "...        ...     ...   ...    ...  \n",
      "9989         7    2.73  2017     12  \n",
      "9990         3   19.79  2017     12  \n",
      "9991         2    4.52  2017     12  \n",
      "9992         2    6.48  2017     12  \n",
      "9993         3   -0.60  2017     12  \n",
      "\n",
      "[9994 rows x 11 columns]\n"
     ]
    }
   ],
   "source": [
    "#print(StoreSales)\n",
    "StoreSales['Order Date']=pd.to_datetime(StoreSales['Order Date'],format='%d/%m/%Y')\n",
    "StoreSales['Year']=StoreSales['Order Date'].dt.year\n",
    "StoreSales['Month']=StoreSales['Order Date'].dt.month\n",
    "print(StoreSales)"
   ]
  },
  {
   "cell_type": "code",
   "execution_count": 86,
   "metadata": {},
   "outputs": [],
   "source": [
    "df = pd.DataFrame(StoreSales)\n",
    "df =df[['Order Date','Year','Month','Customer Name','State','Category','Sub-Category','Product Name','Sales','Quantity','Profit']]\n",
    "df.head()\n",
    "df.to_csv('D:\\Data_analysis\\Brainwave_Task1/cleaneddata1.csv')"
   ]
  }
 ],
 "metadata": {
  "kernelspec": {
   "display_name": "Python 3",
   "language": "python",
   "name": "python3"
  },
  "language_info": {
   "codemirror_mode": {
    "name": "ipython",
    "version": 3
   },
   "file_extension": ".py",
   "mimetype": "text/x-python",
   "name": "python",
   "nbconvert_exporter": "python",
   "pygments_lexer": "ipython3",
   "version": "3.11.9"
  }
 },
 "nbformat": 4,
 "nbformat_minor": 2
}
